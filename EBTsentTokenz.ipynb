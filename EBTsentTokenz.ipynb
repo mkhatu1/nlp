{
  "nbformat": 4,
  "nbformat_minor": 0,
  "metadata": {
    "colab": {
      "name": "EBTsentTokenz.ipynb",
      "provenance": [],
      "toc_visible": true,
      "mount_file_id": "1os-0i0J06Wvr_OLmUIvqz8drv6CvFt_D",
      "authorship_tag": "ABX9TyNYP0VNw3OXyL37YEDI8x8h",
      "include_colab_link": true
    },
    "kernelspec": {
      "name": "python3",
      "display_name": "Python 3"
    }
  },
  "cells": [
    {
      "cell_type": "markdown",
      "metadata": {
        "id": "view-in-github",
        "colab_type": "text"
      },
      "source": [
        "<a href=\"https://colab.research.google.com/github/mkhatu1/nlp/blob/main/EBTsentTokenz.ipynb\" target=\"_parent\"><img src=\"https://colab.research.google.com/assets/colab-badge.svg\" alt=\"Open In Colab\"/></a>"
      ]
    },
    {
      "cell_type": "markdown",
      "metadata": {
        "id": "E8fbBceST7Y_"
      },
      "source": [
        "#Updated: 10/13/20"
      ]
    },
    {
      "cell_type": "markdown",
      "metadata": {
        "id": "bX3RbfY321XS"
      },
      "source": [
        "#Importing "
      ]
    },
    {
      "cell_type": "code",
      "metadata": {
        "id": "80IlJFxMg0tm",
        "outputId": "ba4b4d1d-a00f-4fc2-b061-16dd534db6a7",
        "colab": {
          "base_uri": "https://localhost:8080/",
          "height": 52
        }
      },
      "source": [
        "# Python program to generate word vectors using Word2Vec \n",
        "# importing all necessary modules \n",
        "from nltk.tokenize import sent_tokenize, word_tokenize \n",
        "import warnings \n",
        "warnings.filterwarnings(action = 'ignore') \n",
        "import nltk\n",
        "nltk.download('punkt')\n",
        "import gensim\n",
        "from gensim.models import Word2Vec "
      ],
      "execution_count": null,
      "outputs": [
        {
          "output_type": "stream",
          "text": [
            "[nltk_data] Downloading package punkt to /root/nltk_data...\n",
            "[nltk_data]   Unzipping tokenizers/punkt.zip.\n"
          ],
          "name": "stdout"
        }
      ]
    },
    {
      "cell_type": "code",
      "metadata": {
        "id": "k_yq9yWNAtJ3"
      },
      "source": [
        "from gensim.parsing.preprocessing import strip_non_alphanum, split_alphanum\n",
        "from gensim.parsing.preprocessing import strip_numeric\n",
        "from gensim.parsing.preprocessing import remove_stopwords\n",
        "from gensim.parsing.preprocessing import STOPWORDS\n",
        "from gensim.parsing.porter import PorterStemmer as p\n",
        "from gensim.parsing.preprocessing import strip_multiple_whitespaces"
      ],
      "execution_count": null,
      "outputs": []
    },
    {
      "cell_type": "markdown",
      "metadata": {
        "id": "oWJX8nCRf5y7"
      },
      "source": [
        "#Rq data preprocssing"
      ]
    },
    {
      "cell_type": "code",
      "metadata": {
        "id": "aVTukwih6ucM"
      },
      "source": [
        "#  Reads ‘Requirements.txt’ file \n",
        "rq = open(\"drive/My Drive/Datasets/EBT/Requirements.txt\", \"r\") \n",
        "rq = rq.read() \n",
        "# r = p.stem(rq) "
      ],
      "execution_count": null,
      "outputs": []
    },
    {
      "cell_type": "code",
      "metadata": {
        "id": "3pWaWjzDLsVm"
      },
      "source": [
        "# l = [i for i in rq.readlines()]"
      ],
      "execution_count": null,
      "outputs": []
    },
    {
      "cell_type": "code",
      "metadata": {
        "id": "aTBo2nWDy0Os"
      },
      "source": [
        "a = [] \n",
        "other_words = STOPWORDS.union(['shall' ] ) \n",
        "# other_words = ['shall']\n",
        "\n",
        "# iterate through each sentence in the file \n",
        "for i in sent_tokenize(rq): \n",
        "    t = [] \n",
        "      \n",
        "    # tokenize the sentence into words \n",
        "    for j in word_tokenize(i):\n",
        "      if not j.lower() in other_words:\n",
        "            j= strip_non_alphanum(j)\n",
        "            j= strip_numeric(j)\n",
        "            j= strip_multiple_whitespaces(j)\n",
        "            # j = [j if j.lower()!='']\n",
        "            print('j-----------', j)\n",
        "        # j= remove_stopwords(j)\n",
        "        #print(j + ' --> ' + p.stem(j))\n",
        "        # if not j.lower() in other_words:\n",
        "            #t.append(j.lower()) \n",
        "      \n",
        "    a.append(t) "
      ],
      "execution_count": null,
      "outputs": []
    },
    {
      "cell_type": "code",
      "metadata": {
        "id": "51wKtARVr-e5",
        "outputId": "6cbb5de6-86a6-4774-cca1-7bc70ba1d5c4",
        "colab": {
          "base_uri": "https://localhost:8080/",
          "height": 34
        }
      },
      "source": [
        "len(a)"
      ],
      "execution_count": null,
      "outputs": [
        {
          "output_type": "execute_result",
          "data": {
            "text/plain": [
              "37"
            ]
          },
          "metadata": {
            "tags": []
          },
          "execution_count": 11
        }
      ]
    },
    {
      "cell_type": "code",
      "metadata": {
        "id": "JxyjG1xI0GUA"
      },
      "source": [
        "a #a is perfectly preprocessed RQ"
      ],
      "execution_count": null,
      "outputs": []
    },
    {
      "cell_type": "markdown",
      "metadata": {
        "id": "uvpFMyV25AcN"
      },
      "source": [
        "#old preprocessing"
      ]
    },
    {
      "cell_type": "code",
      "metadata": {
        "id": "dtDXzDvQmC2b"
      },
      "source": [
        "# Retrieve all of the vectors from a trained model as follows:\n",
        "X = model[model.wv.vocab]"
      ],
      "execution_count": null,
      "outputs": []
    },
    {
      "cell_type": "code",
      "metadata": {
        "id": "7yJCk2YR-Msq"
      },
      "source": [
        "# writing to file \n",
        "file1 = open('myfile.txt', 'w') \n",
        "file1.writelines(rq) \n",
        "file1.close() "
      ],
      "execution_count": null,
      "outputs": []
    },
    {
      "cell_type": "code",
      "metadata": {
        "id": "cD2COM7w-OYM"
      },
      "source": [
        "# Using readlines() \n",
        "file1 = open('myfile.txt', 'r') \n",
        "# file1 = file1.read()\n",
        "Lines = file1.readlines() "
      ],
      "execution_count": null,
      "outputs": []
    },
    {
      "cell_type": "code",
      "metadata": {
        "id": "3nwNF-cn8tKS"
      },
      "source": [
        "rq_list = []\n",
        "count = 0\n",
        "# Strips the newline character \n",
        "for line in Lines: \n",
        "  count+=1\n",
        "  line = line.lower()\n",
        "  line = strip_non_alphanum(line)\n",
        "  line = strip_numeric(line)\n",
        "  line = remove_stopwords(line)\n",
        "  # line = p.stem_sentence(line)\n",
        "  rq_list.append(line)\n",
        "  print(\"Line{}: {}\".format(count, line.strip())) \n"
      ],
      "execution_count": null,
      "outputs": []
    },
    {
      "cell_type": "code",
      "metadata": {
        "id": "oDh2Bq6Iv_8a"
      },
      "source": [
        "# # convert list to string\n",
        "# rq = ' '.join(map(str, rq_list)) \n",
        "# rq"
      ],
      "execution_count": null,
      "outputs": []
    },
    {
      "cell_type": "markdown",
      "metadata": {
        "id": "3FHVIvqLQ_n8"
      },
      "source": [
        "#Preprocess the Source Code file using gensim\n"
      ]
    },
    {
      "cell_type": "code",
      "metadata": {
        "id": "67VUk4378k_8"
      },
      "source": [
        "import csv\n",
        "import re\n",
        "ifile  = open('/content/drive/My Drive/Datasets/EBT/SourceCode.csv', \"r\")\n",
        "\n",
        "t = []\n",
        "b = []\n",
        "scid = []\n",
        "line = []\n",
        "read = csv.reader(ifile)\n",
        "for row in read :\n",
        "    if (row[1] != \"\"):\n",
        "        scid.append (row[0])\n",
        "        lines = re.split(\"([A-Z][^A-Z]*)\", row[1]) #= row[1].split()\n",
        "        lines = [strip_non_alphanum(j) for j in lines ]\n",
        "        lines = [strip_numeric(j) for j in lines ]\n",
        "        lines = [strip_multiple_whitespaces(j) for j in lines ]\n",
        "        lines = [ j for j in lines if len(j)>=3 ]\n",
        "        lines = [j.lower() for j in lines]\n",
        "        #print('l--------------', lines)\n",
        "        b.append(lines)\n",
        "\n",
        "        # for j in lines:\n",
        "        # #   print('word-------------', j)\n",
        "           \n",
        "        #       if not j.lower() in other_words:\n",
        "        #           j= strip_non_alphanum(j)           \n",
        "        #           j= strip_numeric(j)\n",
        "        #           j= strip_multiple_whitespaces(j)\n",
        "        #           j= j.lower()\n",
        "\n",
        "        #           print('w---------------', j)\n",
        "        # #           #print(j)  \n",
        "        #           t.append(j.lower()) \n",
        "        # b.append(t)\n",
        "                                   \n",
        "        #print (\"wordssssssssssssssssssssssssssssssssssss\", lines)\n"
      ],
      "execution_count": null,
      "outputs": []
    },
    {
      "cell_type": "code",
      "metadata": {
        "id": "0ZHqG2cW8EBv"
      },
      "source": [
        "list(b)"
      ],
      "execution_count": null,
      "outputs": []
    },
    {
      "cell_type": "markdown",
      "metadata": {
        "id": "OESUhQ1UgG88"
      },
      "source": [
        "#Building w2v model"
      ]
    },
    {
      "cell_type": "code",
      "metadata": {
        "id": "nHe5UN_DuYOm"
      },
      "source": [
        "all_doc = []\n",
        "all_doc.extend(a)\n",
        "all_doc.extend(b)"
      ],
      "execution_count": null,
      "outputs": []
    },
    {
      "cell_type": "code",
      "metadata": {
        "id": "ZngHJhrouhc4"
      },
      "source": [
        "all_doc"
      ],
      "execution_count": null,
      "outputs": []
    },
    {
      "cell_type": "code",
      "metadata": {
        "id": "7exhEtDfI-X9",
        "outputId": "65fb686b-5f99-4431-c640-244e23181757",
        "colab": {
          "base_uri": "https://localhost:8080/"
        }
      },
      "source": [
        "len(a)"
      ],
      "execution_count": null,
      "outputs": [
        {
          "output_type": "execute_result",
          "data": {
            "text/plain": [
              "37"
            ]
          },
          "metadata": {
            "tags": []
          },
          "execution_count": 84
        }
      ]
    },
    {
      "cell_type": "code",
      "metadata": {
        "id": "UsHyjA2hX4IL"
      },
      "source": [
        "# Create Skip Gram model \n",
        "model = gensim.models.Word2Vec(all_doc, min_count = 1, size = 50, \n",
        "                                             window = 5, sg = 1) \n",
        "#size and window can be changed to customize the model "
      ],
      "execution_count": null,
      "outputs": []
    },
    {
      "cell_type": "code",
      "metadata": {
        "id": "s3g9gV6DX802"
      },
      "source": [
        "#check the model vocabulary list\n",
        "l1 =list(model.wv.vocab)"
      ],
      "execution_count": null,
      "outputs": []
    },
    {
      "cell_type": "code",
      "metadata": {
        "id": "jUrs4SUt8xoL",
        "outputId": "b9738c1e-4c88-4fd6-8e76-d7795d7f6538",
        "colab": {
          "base_uri": "https://localhost:8080/",
          "height": 34
        }
      },
      "source": [
        "len(l1)"
      ],
      "execution_count": null,
      "outputs": [
        {
          "output_type": "execute_result",
          "data": {
            "text/plain": [
              "1705"
            ]
          },
          "metadata": {
            "tags": []
          },
          "execution_count": 9
        }
      ]
    },
    {
      "cell_type": "code",
      "metadata": {
        "id": "74770u1lILy4"
      },
      "source": [
        "#get model vector \n",
        "word_vectors = model.wv"
      ],
      "execution_count": null,
      "outputs": []
    },
    {
      "cell_type": "markdown",
      "metadata": {
        "id": "io1bIVJqx2JF"
      },
      "source": [
        "#test similarity using the Similarity function Kusner et al.-2015"
      ]
    },
    {
      "cell_type": "code",
      "metadata": {
        "id": "_5GiGr2_yEcf"
      },
      "source": [
        "sim = []\n",
        "counti = 0\n",
        "countj = 0\n",
        "for i in a:\n",
        "  counti += a.count(i)\n",
        "  #print(i)\n",
        "  for j in b:\n",
        "  \n",
        "    countj += b.count(j)\n",
        "    similarity = word_vectors.wmdistance(i, j)\n",
        "    sim.append(\"{:.4f}\".format(similarity))\n",
        "    #print(\"{:.4f}\".format(similarity))\n",
        "    print(counti, countj, sim)"
      ],
      "execution_count": null,
      "outputs": []
    },
    {
      "cell_type": "code",
      "metadata": {
        "id": "qujfNUMnF4gd",
        "outputId": "a4e563bb-35e8-4333-c30f-6e5e77e06810",
        "colab": {
          "base_uri": "https://localhost:8080/",
          "height": 34
        }
      },
      "source": [
        "len(sim)"
      ],
      "execution_count": null,
      "outputs": [
        {
          "output_type": "execute_result",
          "data": {
            "text/plain": [
              "1850"
            ]
          },
          "metadata": {
            "tags": []
          },
          "execution_count": 93
        }
      ]
    },
    {
      "cell_type": "code",
      "metadata": {
        "id": "0GjLy8bQFvT-",
        "outputId": "91f39f64-3be4-4914-dd2e-05b51ad41715",
        "colab": {
          "base_uri": "https://localhost:8080/",
          "height": 1000
        }
      },
      "source": [
        "sim"
      ],
      "execution_count": null,
      "outputs": [
        {
          "output_type": "execute_result",
          "data": {
            "text/plain": [
              "['2.8519',\n",
              " '2.8519',\n",
              " '2.8519',\n",
              " '2.8519',\n",
              " '2.8519',\n",
              " '2.8519',\n",
              " '2.8519',\n",
              " '2.8519',\n",
              " '2.8519',\n",
              " '2.8519',\n",
              " '2.8519',\n",
              " '2.8519',\n",
              " '2.8519',\n",
              " '2.8519',\n",
              " '2.8519',\n",
              " '2.8519',\n",
              " '2.8519',\n",
              " '2.8519',\n",
              " '2.8519',\n",
              " '2.8519',\n",
              " '2.8519',\n",
              " '2.8519',\n",
              " '2.8519',\n",
              " '2.8519',\n",
              " '2.8519',\n",
              " '2.8519',\n",
              " '2.8519',\n",
              " '2.8519',\n",
              " '2.8519',\n",
              " '2.8519',\n",
              " '2.8519',\n",
              " '2.8519',\n",
              " '2.8519',\n",
              " '2.8519',\n",
              " '2.8519',\n",
              " '2.8519',\n",
              " '2.8519',\n",
              " '2.8519',\n",
              " '2.8519',\n",
              " '2.8519',\n",
              " '2.8519',\n",
              " '2.8519',\n",
              " '2.8519',\n",
              " '2.8519',\n",
              " '2.8519',\n",
              " '2.8519',\n",
              " '2.8519',\n",
              " '2.8519',\n",
              " '2.8519',\n",
              " '2.8519',\n",
              " '2.8197',\n",
              " '2.8197',\n",
              " '2.8197',\n",
              " '2.8197',\n",
              " '2.8197',\n",
              " '2.8197',\n",
              " '2.8197',\n",
              " '2.8197',\n",
              " '2.8197',\n",
              " '2.8197',\n",
              " '2.8197',\n",
              " '2.8197',\n",
              " '2.8197',\n",
              " '2.8197',\n",
              " '2.8197',\n",
              " '2.8197',\n",
              " '2.8197',\n",
              " '2.8197',\n",
              " '2.8197',\n",
              " '2.8197',\n",
              " '2.8197',\n",
              " '2.8197',\n",
              " '2.8197',\n",
              " '2.8197',\n",
              " '2.8197',\n",
              " '2.8197',\n",
              " '2.8197',\n",
              " '2.8197',\n",
              " '2.8197',\n",
              " '2.8197',\n",
              " '2.8197',\n",
              " '2.8197',\n",
              " '2.8197',\n",
              " '2.8197',\n",
              " '2.8197',\n",
              " '2.8197',\n",
              " '2.8197',\n",
              " '2.8197',\n",
              " '2.8197',\n",
              " '2.8197',\n",
              " '2.8197',\n",
              " '2.8197',\n",
              " '2.8197',\n",
              " '2.8197',\n",
              " '2.8197',\n",
              " '2.8197',\n",
              " '2.8197',\n",
              " '2.8197',\n",
              " '2.8197',\n",
              " '2.8197',\n",
              " '2.7200',\n",
              " '2.7200',\n",
              " '2.7200',\n",
              " '2.7200',\n",
              " '2.7200',\n",
              " '2.7200',\n",
              " '2.7200',\n",
              " '2.7200',\n",
              " '2.7200',\n",
              " '2.7200',\n",
              " '2.7200',\n",
              " '2.7200',\n",
              " '2.7200',\n",
              " '2.7200',\n",
              " '2.7200',\n",
              " '2.7200',\n",
              " '2.7200',\n",
              " '2.7200',\n",
              " '2.7200',\n",
              " '2.7200',\n",
              " '2.7200',\n",
              " '2.7200',\n",
              " '2.7200',\n",
              " '2.7200',\n",
              " '2.7200',\n",
              " '2.7200',\n",
              " '2.7200',\n",
              " '2.7200',\n",
              " '2.7200',\n",
              " '2.7200',\n",
              " '2.7200',\n",
              " '2.7200',\n",
              " '2.7200',\n",
              " '2.7200',\n",
              " '2.7200',\n",
              " '2.7200',\n",
              " '2.7200',\n",
              " '2.7200',\n",
              " '2.7200',\n",
              " '2.7200',\n",
              " '2.7200',\n",
              " '2.7200',\n",
              " '2.7200',\n",
              " '2.7200',\n",
              " '2.7200',\n",
              " '2.7200',\n",
              " '2.7200',\n",
              " '2.7200',\n",
              " '2.7200',\n",
              " '2.7200',\n",
              " '2.8053',\n",
              " '2.8053',\n",
              " '2.8053',\n",
              " '2.8053',\n",
              " '2.8053',\n",
              " '2.8053',\n",
              " '2.8053',\n",
              " '2.8053',\n",
              " '2.8053',\n",
              " '2.8053',\n",
              " '2.8053',\n",
              " '2.8053',\n",
              " '2.8053',\n",
              " '2.8053',\n",
              " '2.8053',\n",
              " '2.8053',\n",
              " '2.8053',\n",
              " '2.8053',\n",
              " '2.8053',\n",
              " '2.8053',\n",
              " '2.8053',\n",
              " '2.8053',\n",
              " '2.8053',\n",
              " '2.8053',\n",
              " '2.8053',\n",
              " '2.8053',\n",
              " '2.8053',\n",
              " '2.8053',\n",
              " '2.8053',\n",
              " '2.8053',\n",
              " '2.8053',\n",
              " '2.8053',\n",
              " '2.8053',\n",
              " '2.8053',\n",
              " '2.8053',\n",
              " '2.8053',\n",
              " '2.8053',\n",
              " '2.8053',\n",
              " '2.8053',\n",
              " '2.8053',\n",
              " '2.8053',\n",
              " '2.8053',\n",
              " '2.8053',\n",
              " '2.8053',\n",
              " '2.8053',\n",
              " '2.8053',\n",
              " '2.8053',\n",
              " '2.8053',\n",
              " '2.8053',\n",
              " '2.8053',\n",
              " '2.8861',\n",
              " '2.8861',\n",
              " '2.8861',\n",
              " '2.8861',\n",
              " '2.8861',\n",
              " '2.8861',\n",
              " '2.8861',\n",
              " '2.8861',\n",
              " '2.8861',\n",
              " '2.8861',\n",
              " '2.8861',\n",
              " '2.8861',\n",
              " '2.8861',\n",
              " '2.8861',\n",
              " '2.8861',\n",
              " '2.8861',\n",
              " '2.8861',\n",
              " '2.8861',\n",
              " '2.8861',\n",
              " '2.8861',\n",
              " '2.8861',\n",
              " '2.8861',\n",
              " '2.8861',\n",
              " '2.8861',\n",
              " '2.8861',\n",
              " '2.8861',\n",
              " '2.8861',\n",
              " '2.8861',\n",
              " '2.8861',\n",
              " '2.8861',\n",
              " '2.8861',\n",
              " '2.8861',\n",
              " '2.8861',\n",
              " '2.8861',\n",
              " '2.8861',\n",
              " '2.8861',\n",
              " '2.8861',\n",
              " '2.8861',\n",
              " '2.8861',\n",
              " '2.8861',\n",
              " '2.8861',\n",
              " '2.8861',\n",
              " '2.8861',\n",
              " '2.8861',\n",
              " '2.8861',\n",
              " '2.8861',\n",
              " '2.8861',\n",
              " '2.8861',\n",
              " '2.8861',\n",
              " '2.8861',\n",
              " '2.9209',\n",
              " '2.9209',\n",
              " '2.9209',\n",
              " '2.9209',\n",
              " '2.9209',\n",
              " '2.9209',\n",
              " '2.9209',\n",
              " '2.9209',\n",
              " '2.9209',\n",
              " '2.9209',\n",
              " '2.9209',\n",
              " '2.9209',\n",
              " '2.9209',\n",
              " '2.9209',\n",
              " '2.9209',\n",
              " '2.9209',\n",
              " '2.9209',\n",
              " '2.9209',\n",
              " '2.9209',\n",
              " '2.9209',\n",
              " '2.9209',\n",
              " '2.9209',\n",
              " '2.9209',\n",
              " '2.9209',\n",
              " '2.9209',\n",
              " '2.9209',\n",
              " '2.9209',\n",
              " '2.9209',\n",
              " '2.9209',\n",
              " '2.9209',\n",
              " '2.9209',\n",
              " '2.9209',\n",
              " '2.9209',\n",
              " '2.9209',\n",
              " '2.9209',\n",
              " '2.9209',\n",
              " '2.9209',\n",
              " '2.9209',\n",
              " '2.9209',\n",
              " '2.9209',\n",
              " '2.9209',\n",
              " '2.9209',\n",
              " '2.9209',\n",
              " '2.9209',\n",
              " '2.9209',\n",
              " '2.9209',\n",
              " '2.9209',\n",
              " '2.9209',\n",
              " '2.9209',\n",
              " '2.9209',\n",
              " '2.9091',\n",
              " '2.9091',\n",
              " '2.9091',\n",
              " '2.9091',\n",
              " '2.9091',\n",
              " '2.9091',\n",
              " '2.9091',\n",
              " '2.9091',\n",
              " '2.9091',\n",
              " '2.9091',\n",
              " '2.9091',\n",
              " '2.9091',\n",
              " '2.9091',\n",
              " '2.9091',\n",
              " '2.9091',\n",
              " '2.9091',\n",
              " '2.9091',\n",
              " '2.9091',\n",
              " '2.9091',\n",
              " '2.9091',\n",
              " '2.9091',\n",
              " '2.9091',\n",
              " '2.9091',\n",
              " '2.9091',\n",
              " '2.9091',\n",
              " '2.9091',\n",
              " '2.9091',\n",
              " '2.9091',\n",
              " '2.9091',\n",
              " '2.9091',\n",
              " '2.9091',\n",
              " '2.9091',\n",
              " '2.9091',\n",
              " '2.9091',\n",
              " '2.9091',\n",
              " '2.9091',\n",
              " '2.9091',\n",
              " '2.9091',\n",
              " '2.9091',\n",
              " '2.9091',\n",
              " '2.9091',\n",
              " '2.9091',\n",
              " '2.9091',\n",
              " '2.9091',\n",
              " '2.9091',\n",
              " '2.9091',\n",
              " '2.9091',\n",
              " '2.9091',\n",
              " '2.9091',\n",
              " '2.9091',\n",
              " '2.8701',\n",
              " '2.8701',\n",
              " '2.8701',\n",
              " '2.8701',\n",
              " '2.8701',\n",
              " '2.8701',\n",
              " '2.8701',\n",
              " '2.8701',\n",
              " '2.8701',\n",
              " '2.8701',\n",
              " '2.8701',\n",
              " '2.8701',\n",
              " '2.8701',\n",
              " '2.8701',\n",
              " '2.8701',\n",
              " '2.8701',\n",
              " '2.8701',\n",
              " '2.8701',\n",
              " '2.8701',\n",
              " '2.8701',\n",
              " '2.8701',\n",
              " '2.8701',\n",
              " '2.8701',\n",
              " '2.8701',\n",
              " '2.8701',\n",
              " '2.8701',\n",
              " '2.8701',\n",
              " '2.8701',\n",
              " '2.8701',\n",
              " '2.8701',\n",
              " '2.8701',\n",
              " '2.8701',\n",
              " '2.8701',\n",
              " '2.8701',\n",
              " '2.8701',\n",
              " '2.8701',\n",
              " '2.8701',\n",
              " '2.8701',\n",
              " '2.8701',\n",
              " '2.8701',\n",
              " '2.8701',\n",
              " '2.8701',\n",
              " '2.8701',\n",
              " '2.8701',\n",
              " '2.8701',\n",
              " '2.8701',\n",
              " '2.8701',\n",
              " '2.8701',\n",
              " '2.8701',\n",
              " '2.8701',\n",
              " '2.8026',\n",
              " '2.8026',\n",
              " '2.8026',\n",
              " '2.8026',\n",
              " '2.8026',\n",
              " '2.8026',\n",
              " '2.8026',\n",
              " '2.8026',\n",
              " '2.8026',\n",
              " '2.8026',\n",
              " '2.8026',\n",
              " '2.8026',\n",
              " '2.8026',\n",
              " '2.8026',\n",
              " '2.8026',\n",
              " '2.8026',\n",
              " '2.8026',\n",
              " '2.8026',\n",
              " '2.8026',\n",
              " '2.8026',\n",
              " '2.8026',\n",
              " '2.8026',\n",
              " '2.8026',\n",
              " '2.8026',\n",
              " '2.8026',\n",
              " '2.8026',\n",
              " '2.8026',\n",
              " '2.8026',\n",
              " '2.8026',\n",
              " '2.8026',\n",
              " '2.8026',\n",
              " '2.8026',\n",
              " '2.8026',\n",
              " '2.8026',\n",
              " '2.8026',\n",
              " '2.8026',\n",
              " '2.8026',\n",
              " '2.8026',\n",
              " '2.8026',\n",
              " '2.8026',\n",
              " '2.8026',\n",
              " '2.8026',\n",
              " '2.8026',\n",
              " '2.8026',\n",
              " '2.8026',\n",
              " '2.8026',\n",
              " '2.8026',\n",
              " '2.8026',\n",
              " '2.8026',\n",
              " '2.8026',\n",
              " '2.9292',\n",
              " '2.9292',\n",
              " '2.9292',\n",
              " '2.9292',\n",
              " '2.9292',\n",
              " '2.9292',\n",
              " '2.9292',\n",
              " '2.9292',\n",
              " '2.9292',\n",
              " '2.9292',\n",
              " '2.9292',\n",
              " '2.9292',\n",
              " '2.9292',\n",
              " '2.9292',\n",
              " '2.9292',\n",
              " '2.9292',\n",
              " '2.9292',\n",
              " '2.9292',\n",
              " '2.9292',\n",
              " '2.9292',\n",
              " '2.9292',\n",
              " '2.9292',\n",
              " '2.9292',\n",
              " '2.9292',\n",
              " '2.9292',\n",
              " '2.9292',\n",
              " '2.9292',\n",
              " '2.9292',\n",
              " '2.9292',\n",
              " '2.9292',\n",
              " '2.9292',\n",
              " '2.9292',\n",
              " '2.9292',\n",
              " '2.9292',\n",
              " '2.9292',\n",
              " '2.9292',\n",
              " '2.9292',\n",
              " '2.9292',\n",
              " '2.9292',\n",
              " '2.9292',\n",
              " '2.9292',\n",
              " '2.9292',\n",
              " '2.9292',\n",
              " '2.9292',\n",
              " '2.9292',\n",
              " '2.9292',\n",
              " '2.9292',\n",
              " '2.9292',\n",
              " '2.9292',\n",
              " '2.9292',\n",
              " '2.8619',\n",
              " '2.8619',\n",
              " '2.8619',\n",
              " '2.8619',\n",
              " '2.8619',\n",
              " '2.8619',\n",
              " '2.8619',\n",
              " '2.8619',\n",
              " '2.8619',\n",
              " '2.8619',\n",
              " '2.8619',\n",
              " '2.8619',\n",
              " '2.8619',\n",
              " '2.8619',\n",
              " '2.8619',\n",
              " '2.8619',\n",
              " '2.8619',\n",
              " '2.8619',\n",
              " '2.8619',\n",
              " '2.8619',\n",
              " '2.8619',\n",
              " '2.8619',\n",
              " '2.8619',\n",
              " '2.8619',\n",
              " '2.8619',\n",
              " '2.8619',\n",
              " '2.8619',\n",
              " '2.8619',\n",
              " '2.8619',\n",
              " '2.8619',\n",
              " '2.8619',\n",
              " '2.8619',\n",
              " '2.8619',\n",
              " '2.8619',\n",
              " '2.8619',\n",
              " '2.8619',\n",
              " '2.8619',\n",
              " '2.8619',\n",
              " '2.8619',\n",
              " '2.8619',\n",
              " '2.8619',\n",
              " '2.8619',\n",
              " '2.8619',\n",
              " '2.8619',\n",
              " '2.8619',\n",
              " '2.8619',\n",
              " '2.8619',\n",
              " '2.8619',\n",
              " '2.8619',\n",
              " '2.8619',\n",
              " '2.8172',\n",
              " '2.8172',\n",
              " '2.8172',\n",
              " '2.8172',\n",
              " '2.8172',\n",
              " '2.8172',\n",
              " '2.8172',\n",
              " '2.8172',\n",
              " '2.8172',\n",
              " '2.8172',\n",
              " '2.8172',\n",
              " '2.8172',\n",
              " '2.8172',\n",
              " '2.8172',\n",
              " '2.8172',\n",
              " '2.8172',\n",
              " '2.8172',\n",
              " '2.8172',\n",
              " '2.8172',\n",
              " '2.8172',\n",
              " '2.8172',\n",
              " '2.8172',\n",
              " '2.8172',\n",
              " '2.8172',\n",
              " '2.8172',\n",
              " '2.8172',\n",
              " '2.8172',\n",
              " '2.8172',\n",
              " '2.8172',\n",
              " '2.8172',\n",
              " '2.8172',\n",
              " '2.8172',\n",
              " '2.8172',\n",
              " '2.8172',\n",
              " '2.8172',\n",
              " '2.8172',\n",
              " '2.8172',\n",
              " '2.8172',\n",
              " '2.8172',\n",
              " '2.8172',\n",
              " '2.8172',\n",
              " '2.8172',\n",
              " '2.8172',\n",
              " '2.8172',\n",
              " '2.8172',\n",
              " '2.8172',\n",
              " '2.8172',\n",
              " '2.8172',\n",
              " '2.8172',\n",
              " '2.8172',\n",
              " '2.8403',\n",
              " '2.8403',\n",
              " '2.8403',\n",
              " '2.8403',\n",
              " '2.8403',\n",
              " '2.8403',\n",
              " '2.8403',\n",
              " '2.8403',\n",
              " '2.8403',\n",
              " '2.8403',\n",
              " '2.8403',\n",
              " '2.8403',\n",
              " '2.8403',\n",
              " '2.8403',\n",
              " '2.8403',\n",
              " '2.8403',\n",
              " '2.8403',\n",
              " '2.8403',\n",
              " '2.8403',\n",
              " '2.8403',\n",
              " '2.8403',\n",
              " '2.8403',\n",
              " '2.8403',\n",
              " '2.8403',\n",
              " '2.8403',\n",
              " '2.8403',\n",
              " '2.8403',\n",
              " '2.8403',\n",
              " '2.8403',\n",
              " '2.8403',\n",
              " '2.8403',\n",
              " '2.8403',\n",
              " '2.8403',\n",
              " '2.8403',\n",
              " '2.8403',\n",
              " '2.8403',\n",
              " '2.8403',\n",
              " '2.8403',\n",
              " '2.8403',\n",
              " '2.8403',\n",
              " '2.8403',\n",
              " '2.8403',\n",
              " '2.8403',\n",
              " '2.8403',\n",
              " '2.8403',\n",
              " '2.8403',\n",
              " '2.8403',\n",
              " '2.8403',\n",
              " '2.8403',\n",
              " '2.8403',\n",
              " '2.8435',\n",
              " '2.8435',\n",
              " '2.8435',\n",
              " '2.8435',\n",
              " '2.8435',\n",
              " '2.8435',\n",
              " '2.8435',\n",
              " '2.8435',\n",
              " '2.8435',\n",
              " '2.8435',\n",
              " '2.8435',\n",
              " '2.8435',\n",
              " '2.8435',\n",
              " '2.8435',\n",
              " '2.8435',\n",
              " '2.8435',\n",
              " '2.8435',\n",
              " '2.8435',\n",
              " '2.8435',\n",
              " '2.8435',\n",
              " '2.8435',\n",
              " '2.8435',\n",
              " '2.8435',\n",
              " '2.8435',\n",
              " '2.8435',\n",
              " '2.8435',\n",
              " '2.8435',\n",
              " '2.8435',\n",
              " '2.8435',\n",
              " '2.8435',\n",
              " '2.8435',\n",
              " '2.8435',\n",
              " '2.8435',\n",
              " '2.8435',\n",
              " '2.8435',\n",
              " '2.8435',\n",
              " '2.8435',\n",
              " '2.8435',\n",
              " '2.8435',\n",
              " '2.8435',\n",
              " '2.8435',\n",
              " '2.8435',\n",
              " '2.8435',\n",
              " '2.8435',\n",
              " '2.8435',\n",
              " '2.8435',\n",
              " '2.8435',\n",
              " '2.8435',\n",
              " '2.8435',\n",
              " '2.8435',\n",
              " '2.8983',\n",
              " '2.8983',\n",
              " '2.8983',\n",
              " '2.8983',\n",
              " '2.8983',\n",
              " '2.8983',\n",
              " '2.8983',\n",
              " '2.8983',\n",
              " '2.8983',\n",
              " '2.8983',\n",
              " '2.8983',\n",
              " '2.8983',\n",
              " '2.8983',\n",
              " '2.8983',\n",
              " '2.8983',\n",
              " '2.8983',\n",
              " '2.8983',\n",
              " '2.8983',\n",
              " '2.8983',\n",
              " '2.8983',\n",
              " '2.8983',\n",
              " '2.8983',\n",
              " '2.8983',\n",
              " '2.8983',\n",
              " '2.8983',\n",
              " '2.8983',\n",
              " '2.8983',\n",
              " '2.8983',\n",
              " '2.8983',\n",
              " '2.8983',\n",
              " '2.8983',\n",
              " '2.8983',\n",
              " '2.8983',\n",
              " '2.8983',\n",
              " '2.8983',\n",
              " '2.8983',\n",
              " '2.8983',\n",
              " '2.8983',\n",
              " '2.8983',\n",
              " '2.8983',\n",
              " '2.8983',\n",
              " '2.8983',\n",
              " '2.8983',\n",
              " '2.8983',\n",
              " '2.8983',\n",
              " '2.8983',\n",
              " '2.8983',\n",
              " '2.8983',\n",
              " '2.8983',\n",
              " '2.8983',\n",
              " '2.8517',\n",
              " '2.8517',\n",
              " '2.8517',\n",
              " '2.8517',\n",
              " '2.8517',\n",
              " '2.8517',\n",
              " '2.8517',\n",
              " '2.8517',\n",
              " '2.8517',\n",
              " '2.8517',\n",
              " '2.8517',\n",
              " '2.8517',\n",
              " '2.8517',\n",
              " '2.8517',\n",
              " '2.8517',\n",
              " '2.8517',\n",
              " '2.8517',\n",
              " '2.8517',\n",
              " '2.8517',\n",
              " '2.8517',\n",
              " '2.8517',\n",
              " '2.8517',\n",
              " '2.8517',\n",
              " '2.8517',\n",
              " '2.8517',\n",
              " '2.8517',\n",
              " '2.8517',\n",
              " '2.8517',\n",
              " '2.8517',\n",
              " '2.8517',\n",
              " '2.8517',\n",
              " '2.8517',\n",
              " '2.8517',\n",
              " '2.8517',\n",
              " '2.8517',\n",
              " '2.8517',\n",
              " '2.8517',\n",
              " '2.8517',\n",
              " '2.8517',\n",
              " '2.8517',\n",
              " '2.8517',\n",
              " '2.8517',\n",
              " '2.8517',\n",
              " '2.8517',\n",
              " '2.8517',\n",
              " '2.8517',\n",
              " '2.8517',\n",
              " '2.8517',\n",
              " '2.8517',\n",
              " '2.8517',\n",
              " '2.8060',\n",
              " '2.8060',\n",
              " '2.8060',\n",
              " '2.8060',\n",
              " '2.8060',\n",
              " '2.8060',\n",
              " '2.8060',\n",
              " '2.8060',\n",
              " '2.8060',\n",
              " '2.8060',\n",
              " '2.8060',\n",
              " '2.8060',\n",
              " '2.8060',\n",
              " '2.8060',\n",
              " '2.8060',\n",
              " '2.8060',\n",
              " '2.8060',\n",
              " '2.8060',\n",
              " '2.8060',\n",
              " '2.8060',\n",
              " '2.8060',\n",
              " '2.8060',\n",
              " '2.8060',\n",
              " '2.8060',\n",
              " '2.8060',\n",
              " '2.8060',\n",
              " '2.8060',\n",
              " '2.8060',\n",
              " '2.8060',\n",
              " '2.8060',\n",
              " '2.8060',\n",
              " '2.8060',\n",
              " '2.8060',\n",
              " '2.8060',\n",
              " '2.8060',\n",
              " '2.8060',\n",
              " '2.8060',\n",
              " '2.8060',\n",
              " '2.8060',\n",
              " '2.8060',\n",
              " '2.8060',\n",
              " '2.8060',\n",
              " '2.8060',\n",
              " '2.8060',\n",
              " '2.8060',\n",
              " '2.8060',\n",
              " '2.8060',\n",
              " '2.8060',\n",
              " '2.8060',\n",
              " '2.8060',\n",
              " '2.8474',\n",
              " '2.8474',\n",
              " '2.8474',\n",
              " '2.8474',\n",
              " '2.8474',\n",
              " '2.8474',\n",
              " '2.8474',\n",
              " '2.8474',\n",
              " '2.8474',\n",
              " '2.8474',\n",
              " '2.8474',\n",
              " '2.8474',\n",
              " '2.8474',\n",
              " '2.8474',\n",
              " '2.8474',\n",
              " '2.8474',\n",
              " '2.8474',\n",
              " '2.8474',\n",
              " '2.8474',\n",
              " '2.8474',\n",
              " '2.8474',\n",
              " '2.8474',\n",
              " '2.8474',\n",
              " '2.8474',\n",
              " '2.8474',\n",
              " '2.8474',\n",
              " '2.8474',\n",
              " '2.8474',\n",
              " '2.8474',\n",
              " '2.8474',\n",
              " '2.8474',\n",
              " '2.8474',\n",
              " '2.8474',\n",
              " '2.8474',\n",
              " '2.8474',\n",
              " '2.8474',\n",
              " '2.8474',\n",
              " '2.8474',\n",
              " '2.8474',\n",
              " '2.8474',\n",
              " '2.8474',\n",
              " '2.8474',\n",
              " '2.8474',\n",
              " '2.8474',\n",
              " '2.8474',\n",
              " '2.8474',\n",
              " '2.8474',\n",
              " '2.8474',\n",
              " '2.8474',\n",
              " '2.8474',\n",
              " '2.8537',\n",
              " '2.8537',\n",
              " '2.8537',\n",
              " '2.8537',\n",
              " '2.8537',\n",
              " '2.8537',\n",
              " '2.8537',\n",
              " '2.8537',\n",
              " '2.8537',\n",
              " '2.8537',\n",
              " '2.8537',\n",
              " '2.8537',\n",
              " '2.8537',\n",
              " '2.8537',\n",
              " '2.8537',\n",
              " '2.8537',\n",
              " '2.8537',\n",
              " '2.8537',\n",
              " '2.8537',\n",
              " '2.8537',\n",
              " '2.8537',\n",
              " '2.8537',\n",
              " '2.8537',\n",
              " '2.8537',\n",
              " '2.8537',\n",
              " '2.8537',\n",
              " '2.8537',\n",
              " '2.8537',\n",
              " '2.8537',\n",
              " '2.8537',\n",
              " '2.8537',\n",
              " '2.8537',\n",
              " '2.8537',\n",
              " '2.8537',\n",
              " '2.8537',\n",
              " '2.8537',\n",
              " '2.8537',\n",
              " '2.8537',\n",
              " '2.8537',\n",
              " '2.8537',\n",
              " '2.8537',\n",
              " '2.8537',\n",
              " '2.8537',\n",
              " '2.8537',\n",
              " '2.8537',\n",
              " '2.8537',\n",
              " '2.8537',\n",
              " '2.8537',\n",
              " '2.8537',\n",
              " '2.8537',\n",
              " '2.8991',\n",
              " '2.8991',\n",
              " '2.8991',\n",
              " '2.8991',\n",
              " '2.8991',\n",
              " '2.8991',\n",
              " '2.8991',\n",
              " '2.8991',\n",
              " '2.8991',\n",
              " '2.8991',\n",
              " '2.8991',\n",
              " '2.8991',\n",
              " '2.8991',\n",
              " '2.8991',\n",
              " '2.8991',\n",
              " '2.8991',\n",
              " '2.8991',\n",
              " '2.8991',\n",
              " '2.8991',\n",
              " '2.8991',\n",
              " '2.8991',\n",
              " '2.8991',\n",
              " '2.8991',\n",
              " '2.8991',\n",
              " '2.8991',\n",
              " '2.8991',\n",
              " '2.8991',\n",
              " '2.8991',\n",
              " '2.8991',\n",
              " '2.8991',\n",
              " '2.8991',\n",
              " '2.8991',\n",
              " '2.8991',\n",
              " '2.8991',\n",
              " '2.8991',\n",
              " '2.8991',\n",
              " '2.8991',\n",
              " '2.8991',\n",
              " '2.8991',\n",
              " '2.8991',\n",
              " '2.8991',\n",
              " '2.8991',\n",
              " '2.8991',\n",
              " '2.8991',\n",
              " '2.8991',\n",
              " '2.8991',\n",
              " '2.8991',\n",
              " '2.8991',\n",
              " '2.8991',\n",
              " '2.8991',\n",
              " ...]"
            ]
          },
          "metadata": {
            "tags": []
          },
          "execution_count": 92
        }
      ]
    },
    {
      "cell_type": "markdown",
      "metadata": {
        "id": "WMpqZCeOg-uj"
      },
      "source": [
        "#check similarity between individual data sets (from sc and rq)"
      ]
    },
    {
      "cell_type": "code",
      "metadata": {
        "id": "uLIFIy7GeQ5W"
      },
      "source": [
        "sc_22 = open('/content/drive/My Drive/Datasets/EBT/sc_22.txt', 'r')\n",
        "sc_22 = sc_22.read()"
      ],
      "execution_count": null,
      "outputs": []
    },
    {
      "cell_type": "code",
      "metadata": {
        "id": "nMoElbJSev12"
      },
      "source": [
        "s_22 = []\n",
        "j = re.split(\"([A-Z][^A-Z]*)\", sc_22)\n",
        "# convert list to string\n",
        "\n",
        "j = ' '.join(map(str, j))\n",
        "if not j.lower() in other_words:\n",
        "                  j= strip_non_alphanum(j)\n",
        "                  j= strip_numeric(j)\n",
        "                  j= strip_multiple_whitespaces(j)\n",
        "\n",
        "                  sc_22 = j.lower().split()"
      ],
      "execution_count": null,
      "outputs": []
    },
    {
      "cell_type": "code",
      "metadata": {
        "id": "DdY2T639Kzcy"
      },
      "source": [
        "#similarity between rq_3 and sc_12\n",
        "rq_3 = ['', 'registration', 'subscriber', 'register', 'control', 'subscriber', 'manager', '', 'user', 'establish', 'traces', 'requirements', 'types', 'artifacts', 'establishing', 'subscription', 'artifact', 'relevant', 'requirement', '', 'artifact', 'placed', 'control', 'subscriber', 'manager', '', 'user', 'able', 'delete', 'subscriptions', ' ']\n",
        "\n",
        "\n",
        "similarity = word_vectors.wmdistance(rq_3, sc_12)\n",
        "print(\"{:.4f}\".format(similarity))"
      ],
      "execution_count": null,
      "outputs": []
    },
    {
      "cell_type": "code",
      "metadata": {
        "id": "ovpqnPtNscnD"
      },
      "source": [
        "#similarity between rq_4 and sc_12\n",
        "rq_4 = ['', 'subscriber', 'manager', 'register', 'eventserver', 'receive', 'relevant', 'event', 'messages', ' ']\n",
        "similarity = word_vectors.wmdistance(rq_4, sc_12)\n",
        "print(\"{:.4f}\".format(similarity))"
      ],
      "execution_count": null,
      "outputs": []
    },
    {
      "cell_type": "code",
      "metadata": {
        "id": "YkQHs0zZuBYF"
      },
      "source": [
        "#similarity between rq_1 and sc_12\n",
        "rq_1 = ['', 'non requirement', 'artifacts', 'managed', 'rd', 'party', 'tools', 'rational', 'rose', 'clear', 'case', '', 'registered', 'subscribers', 'allowed', 'establish', 'traces', ' ']\n",
        "similarity = word_vectors.wmdistance(rq_1, sc_12)\n",
        "print(\"{:.4f}\".format(similarity))"
      ],
      "execution_count": null,
      "outputs": []
    },
    {
      "cell_type": "code",
      "metadata": {
        "id": "Ch9YuXWNucQw"
      },
      "source": [
        "#similarity between rq_7 and sc_22\n",
        "rq_7 = ['', 'subscriber', 'manager', 'receive', 'event', 'notifications', 'behalf', 'artifacts', 'manages', ' ']\n",
        "similarity = word_vectors.wmdistance(rq_7, sc_22)\n",
        "print(\"{:.4f}\".format(similarity))"
      ],
      "execution_count": null,
      "outputs": []
    },
    {
      "cell_type": "code",
      "metadata": {
        "id": "bY7ySUQoLCaU",
        "outputId": "a874385e-e3de-4f6c-d111-ed53a0824ac1",
        "colab": {
          "base_uri": "https://localhost:8080/",
          "height": 54
        }
      },
      "source": [
        "print(list(enumerate(a)))"
      ],
      "execution_count": null,
      "outputs": [
        {
          "output_type": "stream",
          "text": [
            "[(0, ['', 'requirements', 'managed', 'rd', 'party', 'requirements', 'management', 'tool', 'doors', ' ']), (1, ['', 'non requirement', 'artifacts', 'managed', 'rd', 'party', 'tools', 'rational', 'rose', 'clear', 'case', '', 'registered', 'subscribers', 'allowed', 'establish', 'traces', ' ']), (2, ['', 'user', 'register', 'subscriber', ' ']), (3, ['', 'registration', 'subscriber', 'register', 'control', 'subscriber', 'manager', '', 'user', 'establish', 'traces', 'requirements', 'types', 'artifacts', 'establishing', 'subscription', 'artifact', 'relevant', 'requirement', '', 'artifact', 'placed', 'control', 'subscriber', 'manager', '', 'user', 'able', 'delete', 'subscriptions', ' ']), (4, ['', 'subscriber', 'manager', 'register', 'eventserver', 'receive', 'relevant', 'event', 'messages', ' ']), (5, ['', 'subscriber', 'manager', 'online', ' ', 'push', 'model', 'send', 'event', 'notifications', 'real', 'time', ' ']), (6, ['', 'subscriber', 'manager', 'comes', 'line', ' ', 'implement', 'pull', 'model', 'retrieve', 'outstanding', 'event', 'messages', 'eventserver', ' ']), (7, ['', 'subscriber', 'manager', 'receive', 'event', 'notifications', 'behalf', 'artifacts', 'manages', ' ']), (8, ['', 'subscriber', 'manager', 'manage', 'traces', 'artifacts', ' ']), (9, ['', 'receipt', 'event', 'message', ' ', 'subscriber', 'manager', 'differentiate', 'speculative', 'evolutionary', 'events', ' ']), (10, ['', 'subscriber', 'manager', 'store', 'information', 'evolutionary', 'events', 'eventlog', ' ']), (11, ['', 'user', 'able', 'construct', 'speculative', 'queries', 'gui', ' ']), (12, ['', 'subscriber', 'manager', 'immediately', 'process', 'speculative', 'events', ' ']), (13, ['', 'subscriber', 'manager', 'execute', 'model', 'speculative', 'values', ' ']), (14, ['', 'subscriber', 'manager', 'report', 'results', 'indicating', 'speculative', 'change', 'negatively', 'impacts', 'requirements', 'constraints', ' ']), (15, ['', 'subscriber', 'manager', 'restore', 'executable', 'model', 'prior', 'state', ' ']), (16, ['', 'prototype', 'utilize', 'driver', 'trigger', 'events', ' ']), (17, ['', 'event', 'types', 'include', 'adding', 'new', 'requirements', ' ']), (18, ['', 'event', 'types', 'include', 'decomposing', 'requirement', 'requirements', ' ']), (19, ['', 'event', 'types', 'include', 'refining', 'requirement', 'adding', 'additional', 'requirement', 'existing', ' ']), (20, ['', 'event', 'types', 'include', 'modifying', 'requirement', ' ']), (21, ['', 'event', 'types', 'include', 'deleting', 'requirement', ' ']), (22, ['', 'event', 'types', 'include', 'merging', 'requirements', ' ']), (23, ['', 'eventserver', 'receive', 'event', 'messages', 'requirement', 'changes', ' ']), (24, ['', 'receipt', 'event', 'message', 'eventserver', 'record', 'event', 'eventlog', ' ']), (25, ['', 'receipt', 'event', ' ', 'eventserver', 'identify', 'relevant', 'subscribers', 'event', ' ']), (26, ['', 'eventserver', 'differentiate', 'evolutionary', 'speculative', 'events', ' ']), (27, ['', 'evolutionary', 'event', 'occurs', ' ', 'eventserver', 'notify', 'subscribers', 'event', ' ']), (28, ['', 'speculative', 'events', ' ', 'eventserver', 'construct', 'composite', 'event', 'message', ' ']), (29, ['', 'eventserver', 'identify', 'related', 'requirements', 'constraints', 'impacted', 'executable', 'model', ' ']), (30, ['', 'eventserver', 'retrieve', 'quantitative', 'values', 'related', 'additional', 'requirements', 'constraints', 'querying', 'requirements', 'management', 'tool', ' ']), (31, ['', 'eventserver', 'create', 'composite', 'speculative', 'message', 'includes', 'speculative', 'event', 'plus', 'related', 'requirements', 'constraint', 'values', 'impacted', 'model', ' ']), (32, ['', 'eventserver', 'send', 'customized', 'message', 'impacted', 'executable', 'model', ' ']), (33, ['', 'user', 'view', 'evolutionary', 'events', 'received', 'specific', 'artifact', 'order', 'received', ' ']), (34, ['', 'user', 'update', 'related', 'artifacts', 'according', 'information', 'contained', 'event', 'messages', ' ']), (35, ['', 'user', 'eliminate', 'unnecessary', 'traces', 'temporarily', 'constructed', 'eventserver', 'initial', 'event', 'processing', ' ']), (36, ['', 'notification', 'processing', 'automatically', 'eliminate', 'events', 'longer', 'valid', 'result', 'user', 'eliminating', 'temporary', 'traces', ' '])]\n"
          ],
          "name": "stdout"
        }
      ]
    },
    {
      "cell_type": "code",
      "metadata": {
        "id": "G-i_ga_RwF5U"
      },
      "source": [
        "#similarity between rq_12 and sc_22\n",
        "rq_12 = ['', 'subscriber', 'manager', 'immediately', 'process', 'speculative', 'events', ' ']\n",
        "similarity = word_vectors.wmdistance(rq_12, sc_22)\n",
        "print(\"{:.4f}\".format(similarity))"
      ],
      "execution_count": null,
      "outputs": []
    },
    {
      "cell_type": "code",
      "metadata": {
        "id": "uZ4bydDywnAE"
      },
      "source": [
        "#similarity between rq_22 and sc_22\n",
        "rq_22 = ['', 'event', 'types', 'include', 'merging', 'requirements', ' ']\n",
        "similarity = word_vectors.wmdistance(rq_22, sc_22)\n",
        "print(\"{:.4f}\".format(similarity))"
      ],
      "execution_count": null,
      "outputs": []
    },
    {
      "cell_type": "code",
      "metadata": {
        "id": "trCRUd7HxARC"
      },
      "source": [
        "#similarity between rq_3 and sc_22\n",
        "similarity = word_vectors.wmdistance(rq_3, sc_22)\n",
        "print(\"{:.4f}\".format(similarity))"
      ],
      "execution_count": null,
      "outputs": []
    },
    {
      "cell_type": "markdown",
      "metadata": {
        "id": "6uQTbdwDCyqA"
      },
      "source": [
        "#abc implement"
      ]
    },
    {
      "cell_type": "code",
      "metadata": {
        "id": "glLkrq0fCpMw"
      },
      "source": [
        "#import Hive\n",
        "import sys\n",
        "sys.path.append('/content/drive/My Drive/Colab Notebooks/Finals/EBT/Hive')"
      ],
      "execution_count": null,
      "outputs": []
    },
    {
      "cell_type": "code",
      "metadata": {
        "id": "6IURwsnwC4Rf"
      },
      "source": [
        "try:\n",
        "    import numpy as np\n",
        "except:\n",
        "    raise ImportError(\"Numpy module not installed.\")\n",
        "import Hive\n",
        "import Utilities\n",
        "import math\n",
        "import random\n",
        "import matplotlib.pyplot as plt\n",
        "import csv\n",
        "import re\n",
        "import time\n",
        "from collections import Counter"
      ],
      "execution_count": null,
      "outputs": []
    },
    {
      "cell_type": "code",
      "metadata": {
        "id": "AqEnd7RJC7hZ"
      },
      "source": [
        "def cosine_similarity(vector1, vector2):\n",
        "    dot_product = sum(p*q for p,q in zip(vector1, vector2))\n",
        "    magnitude = math.sqrt(sum([val**2 for val in vector1])) * math.sqrt(sum([val**2 for val in vector2]))\n",
        "    if not magnitude:\n",
        "        return 0\n",
        "    return dot_product/magnitude"
      ],
      "execution_count": null,
      "outputs": []
    },
    {
      "cell_type": "code",
      "metadata": {
        "id": "ipSUhT_ZC9on"
      },
      "source": [
        "def inverse_document_frequencies(tokenized_documents):\n",
        "    idf_values = {}\n",
        "    all_tokens_set = set([item for sublist in tokenized_documents for item in sublist])\n",
        "    for tkn in all_tokens_set:\n",
        "        contains_token = map(lambda doc: tkn in doc, tokenized_documents)\n",
        "        idf_values[tkn] = 1 + math.log(len(tokenized_documents)/(sum(contains_token)))\n",
        "    return idf_values"
      ],
      "execution_count": null,
      "outputs": []
    },
    {
      "cell_type": "code",
      "metadata": {
        "id": "ugouyohLDASN"
      },
      "source": [
        "def sublinear_term_frequency(term, tokenized_document):\n",
        "    count = tokenized_document.count(term)\n",
        "    if count == 0:\n",
        "        return 0\n",
        "    return 1 + math.log(count)"
      ],
      "execution_count": null,
      "outputs": []
    },
    {
      "cell_type": "code",
      "metadata": {
        "id": "1KDnA2efDjx-"
      },
      "source": [
        "#testing\n",
        "# tokenize = lambda doc: doc.lower().split(\" \")\n",
        "def tfidf(tokenized_documents):\n",
        "    # tokenized_documents = [tokenize(d) for d in documents]\n",
        "    idf = inverse_document_frequencies(tokenized_documents)\n",
        "    tfidf_documents = []\n",
        "    for document in tokenized_documents:\n",
        "        doc_tfidf = []\n",
        "        for term in idf.keys():\n",
        "            tf = sublinear_term_frequency(term, document)\n",
        "            doc_tfidf.append(tf * idf[term])\n",
        "        tfidf_documents.append(doc_tfidf)\n",
        "    return tfidf_documents"
      ],
      "execution_count": null,
      "outputs": []
    },
    {
      "cell_type": "code",
      "metadata": {
        "id": "1tsDa8CbFc7O"
      },
      "source": [
        "# from collections import Counter\n",
        "# Counter(str(a))"
      ],
      "execution_count": null,
      "outputs": []
    },
    {
      "cell_type": "code",
      "metadata": {
        "id": "b6bUczCd6ghI"
      },
      "source": [
        "l1 = (scSgModel.wv)"
      ],
      "execution_count": null,
      "outputs": []
    },
    {
      "cell_type": "code",
      "metadata": {
        "id": "7ZVx4GcCr0PI",
        "outputId": "a66a051d-77f4-439f-cf6d-2258f12f2f40",
        "colab": {
          "base_uri": "https://localhost:8080/"
        }
      },
      "source": [
        "l1"
      ],
      "execution_count": null,
      "outputs": [
        {
          "output_type": "execute_result",
          "data": {
            "text/plain": [
              "<gensim.models.keyedvectors.Word2VecKeyedVectors at 0x7fef1a9b41d0>"
            ]
          },
          "metadata": {
            "tags": []
          },
          "execution_count": 196
        }
      ]
    },
    {
      "cell_type": "code",
      "metadata": {
        "id": "1YBjcPSEXhcz"
      },
      "source": [
        "l2 = (rqSgModel.wv)"
      ],
      "execution_count": null,
      "outputs": []
    },
    {
      "cell_type": "code",
      "metadata": {
        "id": "yp6nqE3t7oD6"
      },
      "source": [
        "l2 = []\n",
        "for i in rqSgModel.wv.vocab:\n",
        "  j = rqSgModel.wv[{i}]\n",
        "  print(j)\n",
        "  l2.extend(j)"
      ],
      "execution_count": null,
      "outputs": []
    },
    {
      "cell_type": "code",
      "metadata": {
        "id": "s15Cj3k-93WL"
      },
      "source": [
        "l1 = []\n",
        "for i in scSgModel.wv.vocab:\n",
        "  j = scSgModel.wv[{i}]\n",
        "  print(j)\n",
        "  l1.extend(j)"
      ],
      "execution_count": null,
      "outputs": []
    },
    {
      "cell_type": "code",
      "metadata": {
        "id": "dSsE4Lx4sCKk",
        "outputId": "6376e6eb-4fdf-4782-d53b-30ea26f4d9a4",
        "colab": {
          "base_uri": "https://localhost:8080/"
        }
      },
      "source": [
        "l2"
      ],
      "execution_count": null,
      "outputs": [
        {
          "output_type": "execute_result",
          "data": {
            "text/plain": [
              "[array([-0.44717985], dtype=float32),\n",
              " array([0.30709922], dtype=float32),\n",
              " array([-0.35021704], dtype=float32),\n",
              " array([0.17677769], dtype=float32),\n",
              " array([-0.1867339], dtype=float32),\n",
              " array([0.13917547], dtype=float32),\n",
              " array([-0.02063596], dtype=float32),\n",
              " array([0.12248116], dtype=float32),\n",
              " array([0.11091715], dtype=float32),\n",
              " array([0.20422362], dtype=float32),\n",
              " array([-0.45508504], dtype=float32),\n",
              " array([-0.3554611], dtype=float32),\n",
              " array([0.387066], dtype=float32),\n",
              " array([0.30394354], dtype=float32),\n",
              " array([-0.45229942], dtype=float32),\n",
              " array([0.02136876], dtype=float32),\n",
              " array([-0.4478496], dtype=float32),\n",
              " array([0.06987878], dtype=float32),\n",
              " array([-0.46202108], dtype=float32),\n",
              " array([-0.08711384], dtype=float32),\n",
              " array([0.14846797], dtype=float32),\n",
              " array([0.07258537], dtype=float32),\n",
              " array([0.1559646], dtype=float32),\n",
              " array([-0.45761454], dtype=float32),\n",
              " array([-0.3875663], dtype=float32),\n",
              " array([0.38923743], dtype=float32),\n",
              " array([-0.48692676], dtype=float32),\n",
              " array([0.40009883], dtype=float32),\n",
              " array([0.35854682], dtype=float32),\n",
              " array([-0.39675736], dtype=float32),\n",
              " array([0.36540282], dtype=float32),\n",
              " array([-0.1096705], dtype=float32),\n",
              " array([-0.07723047], dtype=float32),\n",
              " array([-0.15451193], dtype=float32),\n",
              " array([0.44691116], dtype=float32),\n",
              " array([-0.27747965], dtype=float32),\n",
              " array([0.3749787], dtype=float32),\n",
              " array([0.16478154], dtype=float32),\n",
              " array([-0.31375918], dtype=float32),\n",
              " array([-0.3810936], dtype=float32),\n",
              " array([-0.29303128], dtype=float32),\n",
              " array([0.11121812], dtype=float32),\n",
              " array([0.3559808], dtype=float32),\n",
              " array([-0.42014918], dtype=float32),\n",
              " array([0.08216645], dtype=float32),\n",
              " array([-0.32727525], dtype=float32),\n",
              " array([-0.1623307], dtype=float32),\n",
              " array([0.13198863], dtype=float32),\n",
              " array([-0.44699612], dtype=float32),\n",
              " array([0.29099673], dtype=float32)]"
            ]
          },
          "metadata": {
            "tags": []
          },
          "execution_count": 201
        }
      ]
    },
    {
      "cell_type": "code",
      "metadata": {
        "id": "Sei_LZvyBe3L"
      },
      "source": [
        "t1 = [scSgModel.wv['event']]"
      ],
      "execution_count": null,
      "outputs": []
    },
    {
      "cell_type": "code",
      "metadata": {
        "id": "t8r9dcX1BlHR"
      },
      "source": [
        "t2 = [rqSgModel.wv['event']]"
      ],
      "execution_count": null,
      "outputs": []
    },
    {
      "cell_type": "code",
      "metadata": {
        "id": "6_hYBcITqqkX",
        "outputId": "dd3f6708-1020-4be9-f4d0-d6b0a9244620",
        "colab": {
          "base_uri": "https://localhost:8080/"
        }
      },
      "source": [
        "cosine_similarity(t1,t2)"
      ],
      "execution_count": null,
      "outputs": [
        {
          "output_type": "execute_result",
          "data": {
            "text/plain": [
              "array([-1.0000001], dtype=float32)"
            ]
          },
          "metadata": {
            "tags": []
          },
          "execution_count": 204
        }
      ]
    },
    {
      "cell_type": "code",
      "metadata": {
        "id": "I3bDrMtptfK-",
        "outputId": "1be3e0ad-9ff1-486b-8c90-413ddcaa3551",
        "colab": {
          "base_uri": "https://localhost:8080/"
        }
      },
      "source": [
        "t1"
      ],
      "execution_count": null,
      "outputs": [
        {
          "output_type": "execute_result",
          "data": {
            "text/plain": [
              "[array([1.2455388], dtype=float32)]"
            ]
          },
          "metadata": {
            "tags": []
          },
          "execution_count": 206
        }
      ]
    },
    {
      "cell_type": "code",
      "metadata": {
        "id": "G4wg9F3hBwkj",
        "outputId": "0b228c8f-d023-4730-f20c-95298df27cab",
        "colab": {
          "base_uri": "https://localhost:8080/"
        }
      },
      "source": [
        "t2"
      ],
      "execution_count": null,
      "outputs": [
        {
          "output_type": "execute_result",
          "data": {
            "text/plain": [
              "[array([-0.15451193], dtype=float32)]"
            ]
          },
          "metadata": {
            "tags": []
          },
          "execution_count": 205
        }
      ]
    },
    {
      "cell_type": "code",
      "metadata": {
        "id": "uf3hm4eTFW1D"
      },
      "source": [
        "b = []\n",
        "b.extend(t1)\n",
        "b.extend(t2)"
      ],
      "execution_count": null,
      "outputs": []
    },
    {
      "cell_type": "code",
      "metadata": {
        "id": "V-T_-V4MFVfb"
      },
      "source": [
        "list(enumerate(b, 100))"
      ],
      "execution_count": null,
      "outputs": []
    },
    {
      "cell_type": "code",
      "metadata": {
        "id": "GPi4gDrjByqd"
      },
      "source": [
        "a = []\n",
        "a.append(t1)\n",
        "a.append(t2)"
      ],
      "execution_count": null,
      "outputs": []
    },
    {
      "cell_type": "code",
      "metadata": {
        "id": "nvQc_mkdCkBa"
      },
      "source": [
        "list(enumerate(a, 100))"
      ],
      "execution_count": null,
      "outputs": []
    },
    {
      "cell_type": "code",
      "metadata": {
        "id": "uRfPJVhEB4Pe",
        "outputId": "ca6db715-16d3-4702-d18d-3932b6ef583d",
        "colab": {
          "base_uri": "https://localhost:8080/"
        }
      },
      "source": [
        "# changing index and printing separately \n",
        "\n",
        "for count,ele in enumerate(b,100): \n",
        "  j = count+1\n",
        "  for count2, ele2 in enumerate(b, 100):\n",
        "     if(count2==j):\n",
        "        c = cosine_similarity(ele, ele2) \n",
        "        # print(ele, ele2)\n",
        "        print(c) "
      ],
      "execution_count": null,
      "outputs": [
        {
          "output_type": "stream",
          "text": [
            "-0.006958872522781549\n"
          ],
          "name": "stdout"
        }
      ]
    },
    {
      "cell_type": "code",
      "metadata": {
        "id": "oURiOkLZaw15"
      },
      "source": [
        "# changing index and printing separately \n",
        "for count,ele in enumerate(l2,100): \n",
        "    print(count,ele) "
      ],
      "execution_count": null,
      "outputs": []
    },
    {
      "cell_type": "code",
      "metadata": {
        "id": "8GKBi0G4bMsa"
      },
      "source": [
        "all = []\n",
        "all.extend(l2)\n",
        "all.extend(l1)"
      ],
      "execution_count": null,
      "outputs": []
    },
    {
      "cell_type": "code",
      "metadata": {
        "id": "dnJdiaKxie6Y",
        "outputId": "a2dcdca8-f790-4107-e661-a12dada17f44",
        "colab": {
          "base_uri": "https://localhost:8080/"
        }
      },
      "source": [
        "len(all)"
      ],
      "execution_count": null,
      "outputs": [
        {
          "output_type": "execute_result",
          "data": {
            "text/plain": [
              "485"
            ]
          },
          "metadata": {
            "tags": []
          },
          "execution_count": 144
        }
      ]
    },
    {
      "cell_type": "code",
      "metadata": {
        "id": "0DMPdDcx_nuz"
      },
      "source": [
        "for count,ele in enumerate(all,100): \n",
        "  print(count, ele)"
      ],
      "execution_count": null,
      "outputs": []
    },
    {
      "cell_type": "code",
      "metadata": {
        "id": "UQ2wAB1GbVkC"
      },
      "source": [
        "# changing index and printing separately \n",
        "for count,ele in enumerate(all,100): \n",
        "  j = count+1\n",
        "  for j, ele2 in enumerate(all,100):\n",
        "\n",
        "    c = cosine_similarity(ele, ele2) \n",
        "    # print(c) \n"
      ],
      "execution_count": null,
      "outputs": []
    },
    {
      "cell_type": "code",
      "metadata": {
        "id": "ZqnCi9RQDq4O"
      },
      "source": [
        "\n",
        "# #first implementation\n",
        "# tfidf_representation = tfidf(all_documents)\n",
        "def docu (uno, dos, intervale):\n",
        "   our_tfidf_comparisons = []\n",
        "   auxilio =0\n",
        "   for count_0, doc_0 in enumerate(all):\n",
        "       #print (\"HL\", count_0, \"TERMINE\")\n",
        "       for count_1, doc_1 in enumerate(all):\n",
        "           if(count_0==uno and count_1==dos+intervale):\n",
        "               our_tfidf_comparisons.append((cosine_similarity(doc_0, doc_1), count_0, count_1)) \n",
        "               auxilio=cosine_similarity(doc_0, doc_1) \n",
        "              #  print (\"AUXILIO\", auxilio)\n",
        "               return auxilio"
      ],
      "execution_count": null,
      "outputs": []
    },
    {
      "cell_type": "code",
      "metadata": {
        "id": "D9BNbRxaDvuC"
      },
      "source": [
        "def evaluator(vector):\n",
        "\n",
        "    value=0.0\n",
        "    valuex = 0.0\n",
        "    #val = 0\n",
        "    vector = np.array(vector)\n",
        "    # print (\"vector\", vector)\n",
        "    #return 10 * vector.size + sum(vector*vector - 10 * np.cos(2 * np.pi * vector))\n",
        "    total = (len(vector)//2)\n",
        "    # print (\"total\", total)\n",
        "    for i in range (0,total):\n",
        "        # print(\"------------------------------------------------------\")\n",
        "        # print (\"i\", i)\n",
        "        # print (\"AUXXX\", len(aux))\n",
        "        # print (\"total\", total)\n",
        "        # print (\"len all_doc\", len(all_documents))\n",
        "        # print (\"vector text alllllllllllllllllllllll\", all_documents)\n",
        "        # print (\"vector1\", vector[i])\n",
        "        # print (\"vector text\", all_documents[vector[i]])\n",
        "        # print (\"vector2\", vector[total+i])\n",
        "        # print (\"vector text\", all_documents[len(aux)+vector[total+i]])\n",
        "        #-----------\n",
        "        value =  docu(vector[i],vector[total+i],(len(l2))) #........................................................................................\n",
        "        # print (\"value funtion 1mnjljl\", value)\n",
        "        \n",
        "        #EBT THESHOLD\n",
        "        if value != None and value >= 0.1:\n",
        "            value = 1+ value\n",
        "            valuex = valuex + value\n",
        "        \n",
        "        #Albergate THESHOLD\n",
        "        #if value >= 0.1:\n",
        "        #    value = 1+ value\n",
        "        #else:\n",
        "        #    value = 0.0\n",
        "        #print (\"value funtion 1\", valuex)\n",
        "        # valuex = valuex + value\n",
        "        #print (\"value funtion 1\", valuex)\n",
        "        value = 0.0\n",
        "        #-----------\n",
        "    #print (\"----------------------------------------value funtion 1\", valuex)\n",
        "        #val = val+ (vector[i]+vector[total+i])\n",
        "    #print(\"TERMINE----------------------------------------------------------------\")\n",
        "    return valuex\n",
        "\n"
      ],
      "execution_count": null,
      "outputs": []
    },
    {
      "cell_type": "code",
      "metadata": {
        "id": "IcFUgBW6Dyb2"
      },
      "source": [
        "def run():\n",
        "\n",
        "    # creates model\n",
        "    #ndim = int (300) #Albergate\n",
        "    #ndim = int(800) #eTours\n",
        "    ndim = int(500) #EBT\n",
        "    model = Hive.BeeHive(\n",
        "                         lower = [0]*ndim  ,\n",
        "                         upper = [31]*ndim  , #EBT\n",
        "                         #upper = [15]*ndim  , #Albergate\n",
        "                         #upper = [57]*ndim  , # eTour\n",
        "                         fun       = evaluator ,\n",
        "                         #numb_bees =  200       ,  #Albergate\n",
        "                         #max_itrs  =  200       ,) #Albergate\n",
        "                         \n",
        "                         #numb_bees =  200       ,  #EBT\n",
        "                         #max_itrs  =  200       ,) #EBT\n",
        "                         \n",
        "                         numb_bees =  50      , #eTour\n",
        "                         max_itrs  = 50       ,) #eTour\n",
        "\n",
        "    # runs model\n",
        "    \n",
        "    start_time = time.clock()\n",
        "    cost = model.run()\n",
        "\n",
        "    # plots convergence\n",
        "    Utilities.ConvergencePlot(cost)\n",
        "    B= []\n",
        "    C=[]\n",
        "    # prints out best solution\n",
        "    print(\"BEEEEEEEEEEEEEEEST\", model.new)\n",
        "    print(\"Best solution ABC: {0}\".format(model.best))\n",
        "    #for i in range (0,400):\n",
        "    for i in range (0,250):\n",
        "    #for i in range (0,150):\n",
        "        #print (\"soy i\",i)\n",
        "        #print (\"SOYYYYY\", model.new[i])\n",
        "        B.append(model.new[i])\n",
        "    #for i in range (401,801):\n",
        "    for i in range (251,501):\n",
        "    #for i in range (151,301):\n",
        "        C.append(model.new[i])\n",
        "\n",
        "    print (\"soy b\", B)\n",
        "    print (\"soy b\", C)\n",
        "    total =0\n",
        "    verdad =0\n",
        "    local = 0\n",
        "    count = 0\n",
        "\n",
        "    #for i in range (0,400-1):\n",
        "    for i in range (0,250-1):\n",
        "    #for i in range (0,150-1):\n",
        "        #for j in range (i+1,400):\n",
        "        for j in range (i+1,250):\n",
        "        #for j in range (i+1,150):\n",
        "            if ((B[i] == B[j]) and (C[i]==C[j] )):\n",
        "                B[j] = \" \"\n",
        "                C[j] = \" \"           \n",
        "                local = local+1\n",
        "                verdad = 1\n",
        "        if (verdad== 1):\n",
        "            total = total+local\n",
        "            verdad = 0\n",
        "            local = 0\n",
        "    print (\"TOTAL\", total)  \n",
        "    #for i in range (0,400):\n",
        "    for i in range (0,250):\n",
        "    #for i in range (0,150):\n",
        "        if (B[i] != \" \" ):\n",
        "            count = count +1; \n",
        "            print (\"Pair,\", count, \" REQ\", B[i], \", SCC\",  C[i])  \n",
        "\n",
        "    print (time.clock() - start_time, \"seconds\")\n",
        "\n",
        "if __name__ == \"__main__\":\n",
        "    run()\n",
        "\n"
      ],
      "execution_count": null,
      "outputs": []
    }
  ]
}